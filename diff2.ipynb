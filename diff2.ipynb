{
 "cells": [
  {
   "cell_type": "code",
   "execution_count": 5,
   "outputs": [
    {
     "name": "stdout",
     "output_type": "stream",
     "text": [
      "Requirement already satisfied: matplotlib in c:\\users\\arif\\.virtualenvs\\diff\\lib\\site-packages (3.4.2)\n",
      "Requirement already satisfied: pyparsing>=2.2.1 in c:\\users\\arif\\.virtualenvs\\diff\\lib\\site-packages (from matplotlib) (2.4.7)\n",
      "Requirement already satisfied: numpy>=1.16 in c:\\users\\arif\\.virtualenvs\\diff\\lib\\site-packages (from matplotlib) (1.21.0)\n",
      "Requirement already satisfied: pillow>=6.2.0 in c:\\users\\arif\\.virtualenvs\\diff\\lib\\site-packages (from matplotlib) (8.2.0)\n",
      "Requirement already satisfied: kiwisolver>=1.0.1 in c:\\users\\arif\\.virtualenvs\\diff\\lib\\site-packages (from matplotlib) (1.3.1)\n",
      "Requirement already satisfied: cycler>=0.10 in c:\\users\\arif\\.virtualenvs\\diff\\lib\\site-packages (from matplotlib) (0.10.0)\n",
      "Requirement already satisfied: python-dateutil>=2.7 in c:\\users\\arif\\.virtualenvs\\diff\\lib\\site-packages (from matplotlib) (2.8.1)\n",
      "Requirement already satisfied: six in c:\\users\\arif\\.virtualenvs\\diff\\lib\\site-packages (from cycler>=0.10->matplotlib) (1.16.0)\n"
     ]
    }
   ],
   "source": [
    "!pip install matplotlib\n",
    "import matplotlib.pyplot as plt\n",
    "import numpy as np"
   ],
   "metadata": {
    "collapsed": false,
    "pycharm": {
     "name": "#%%\n"
    }
   }
  },
  {
   "cell_type": "code",
   "execution_count": 6,
   "outputs": [
    {
     "data": {
      "text/plain": "[<matplotlib.lines.Line2D at 0x29bb8cb25b0>]"
     },
     "execution_count": 6,
     "metadata": {},
     "output_type": "execute_result"
    },
    {
     "data": {
      "text/plain": "<Figure size 432x288 with 1 Axes>",
      "image/png": "[encoded data removed]"
     },
     "metadata": {
      "needs_background": "light"
     },
     "output_type": "display_data"
    }
   ],
   "source": [
    "START = 0\n",
    "END = 10\n",
    "STEP = 100\n",
    "dx = (END-START) / STEP\n",
    "new_x = np.zeros(STEP)\n",
    "new_y = np.zeros(STEP)\n",
    "new_x[0] = 0\n",
    "new_y[0] = 0\n",
    "\n",
    "current_x_point = new_x[0]\n",
    "current_index = 1\n",
    "\n",
    "while current_index < new_x.shape[0]:\n",
    "    current_x_point = current_x_point + dx\n",
    "    dydx = 2 * current_x_point\n",
    "    dy = dydx * dx\n",
    "\n",
    "    previous_y_point = new_y[current_index - 1]\n",
    "    current_y_point = previous_y_point + dy\n",
    "\n",
    "    new_x[current_index] = current_x_point\n",
    "    new_y[current_index] = current_y_point\n",
    "\n",
    "    current_index = current_index + 1\n",
    "plt.plot(new_x, new_y)\n"
   ],
   "metadata": {
    "collapsed": false,
    "pycharm": {
     "name": "#%%\n"
    }
   }
  }
 ],
 "metadata": {
  "kernelspec": {
   "display_name": "Python 3",
   "language": "python",
   "name": "python3"
  },
  "language_info": {
   "codemirror_mode": {
    "name": "ipython",
    "version": 3
   },
   "file_extension": ".py",
   "mimetype": "text/x-python",
   "name": "python",
   "nbconvert_exporter": "python",
   "pygments_lexer": "ipython3",
   "version": "3.8.8"
  }
 },
 "nbformat": 4,
 "nbformat_minor": 1
}