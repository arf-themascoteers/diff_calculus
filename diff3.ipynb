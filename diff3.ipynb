{
 "cells": [
  {
   "cell_type": "code",
   "execution_count": 1,
   "metadata": {
    "pycharm": {
     "name": "#%%\n"
    }
   },
   "outputs": [
    {
     "name": "stdout",
     "output_type": "stream",
     "text": [
      "Requirement already satisfied: matplotlib in c:\\users\\arif\\.virtualenvs\\diff\\lib\\site-packages (3.4.2)\n",
      "Requirement already satisfied: pillow>=6.2.0 in c:\\users\\arif\\.virtualenvs\\diff\\lib\\site-packages (from matplotlib) (8.2.0)\n",
      "Requirement already satisfied: python-dateutil>=2.7 in c:\\users\\arif\\.virtualenvs\\diff\\lib\\site-packages (from matplotlib) (2.8.1)\n",
      "Requirement already satisfied: numpy>=1.16 in c:\\users\\arif\\.virtualenvs\\diff\\lib\\site-packages (from matplotlib) (1.21.0)\n",
      "Requirement already satisfied: pyparsing>=2.2.1 in c:\\users\\arif\\.virtualenvs\\diff\\lib\\site-packages (from matplotlib) (2.4.7)\n",
      "Requirement already satisfied: kiwisolver>=1.0.1 in c:\\users\\arif\\.virtualenvs\\diff\\lib\\site-packages (from matplotlib) (1.3.1)\n",
      "Requirement already satisfied: cycler>=0.10 in c:\\users\\arif\\.virtualenvs\\diff\\lib\\site-packages (from matplotlib) (0.10.0)\n",
      "Requirement already satisfied: six in c:\\users\\arif\\.virtualenvs\\diff\\lib\\site-packages (from cycler>=0.10->matplotlib) (1.16.0)\n"
     ]
    }
   ],
   "source": [
    "!pip install matplotlib\n",
    "import matplotlib.pyplot as plt\n",
    "import numpy as np"
   ]
  },
  {
   "cell_type": "code",
   "execution_count": 47,
   "metadata": {
    "pycharm": {
     "name": "#%%\n"
    }
   },
   "outputs": [
    {
     "data": {
      "text/plain": [
       "[<matplotlib.lines.Line2D at 0x19dfb941430>]"
      ]
     },
     "execution_count": 47,
     "metadata": {},
     "output_type": "execute_result"
    },
    {
     "data": {
      "image/png": "[encoded data removed]",
      "text/plain": [
       "<Figure size 432x288 with 1 Axes>"
      ]
     },
     "metadata": {
      "needs_background": "light"
     },
     "output_type": "display_data"
    }
   ],
   "source": [
    "START = 0\n",
    "END = 9\n",
    "SIZE = 10\n",
    "\n",
    "x = np.linspace(START,END,SIZE)\n",
    "y = x**2\n",
    "\n",
    "dy = np.zeros_like(x)\n",
    "dydx = np.zeros_like(x)\n",
    "\n",
    "current_x_point = x[0]\n",
    "current_index = 1\n",
    "\n",
    "dx = (END-START) / SIZE\n",
    "\n",
    "for current_index in range(SIZE-1):\n",
    "    next_index = current_index + 1\n",
    "    dy[current_index] = y[next_index] - y[current_index]\n",
    "    dydx[current_index] = dy[current_index]/dx\n",
    "\n",
    "x = x[1:-1]\n",
    "dydx = dydx[1:-1]\n",
    "\n",
    "plt.plot(x, dydx/x)\n",
    "\n"
   ]
  }
 ],
 "metadata": {
  "kernelspec": {
   "display_name": "Python 3",
   "language": "python",
   "name": "python3"
  },
  "language_info": {
   "codemirror_mode": {
    "name": "ipython",
    "version": 3
   },
   "file_extension": ".py",
   "mimetype": "text/x-python",
   "name": "python",
   "nbconvert_exporter": "python",
   "pygments_lexer": "ipython3",
   "version": "3.8.8"
  }
 },
 "nbformat": 4,
 "nbformat_minor": 1
}